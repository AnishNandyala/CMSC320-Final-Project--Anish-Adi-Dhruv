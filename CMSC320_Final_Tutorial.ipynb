{
  "cells": [
    {
      "cell_type": "markdown",
      "metadata": {
        "id": "xPUbJiaXwJIn"
      },
      "source": [
        "NEW DATASET: We had previously selected a dataset with tweets and understanding that analyzing the language in those messages may be out of a feasible scope, we switched to a dataset regarding chess games. This contains meta data about games including wins, time, opening moves, full move list, etc. Using this a lot of insight on strong openings and certain gameplay features can be analyzed."
      ]
    },
    {
      "cell_type": "code",
      "execution_count": 5,
      "metadata": {
        "colab": {
          "base_uri": "https://localhost:8080/",
          "height": 718
        },
        "id": "XGyXxQwfpWgQ",
        "outputId": "ed5b7c80-ead2-4940-d185-cdbfbeef81f5"
      },
      "outputs": [
        {
          "data": {
            "text/html": [
              "<div>\n",
              "<style scoped>\n",
              "    .dataframe tbody tr th:only-of-type {\n",
              "        vertical-align: middle;\n",
              "    }\n",
              "\n",
              "    .dataframe tbody tr th {\n",
              "        vertical-align: top;\n",
              "    }\n",
              "\n",
              "    .dataframe thead th {\n",
              "        text-align: right;\n",
              "    }\n",
              "</style>\n",
              "<table border=\"1\" class=\"dataframe\">\n",
              "  <thead>\n",
              "    <tr style=\"text-align: right;\">\n",
              "      <th></th>\n",
              "      <th>id</th>\n",
              "      <th>rated</th>\n",
              "      <th>created_at</th>\n",
              "      <th>last_move_at</th>\n",
              "      <th>turns</th>\n",
              "      <th>victory_status</th>\n",
              "      <th>winner</th>\n",
              "      <th>increment_code</th>\n",
              "      <th>white_id</th>\n",
              "      <th>white_rating</th>\n",
              "      <th>black_id</th>\n",
              "      <th>black_rating</th>\n",
              "      <th>moves</th>\n",
              "      <th>opening_eco</th>\n",
              "      <th>opening_name</th>\n",
              "      <th>opening_ply</th>\n",
              "    </tr>\n",
              "  </thead>\n",
              "  <tbody>\n",
              "    <tr>\n",
              "      <th>0</th>\n",
              "      <td>TZJHLljE</td>\n",
              "      <td>False</td>\n",
              "      <td>1.504210e+12</td>\n",
              "      <td>1.504210e+12</td>\n",
              "      <td>13</td>\n",
              "      <td>outoftime</td>\n",
              "      <td>white</td>\n",
              "      <td>15+2</td>\n",
              "      <td>bourgris</td>\n",
              "      <td>1500</td>\n",
              "      <td>a-00</td>\n",
              "      <td>1191</td>\n",
              "      <td>d4 d5 c4 c6 cxd5 e6 dxe6 fxe6 Nf3 Bb4+ Nc3 Ba5...</td>\n",
              "      <td>D10</td>\n",
              "      <td>Slav Defense: Exchange Variation</td>\n",
              "      <td>5</td>\n",
              "    </tr>\n",
              "    <tr>\n",
              "      <th>1</th>\n",
              "      <td>l1NXvwaE</td>\n",
              "      <td>True</td>\n",
              "      <td>1.504130e+12</td>\n",
              "      <td>1.504130e+12</td>\n",
              "      <td>16</td>\n",
              "      <td>resign</td>\n",
              "      <td>black</td>\n",
              "      <td>5+10</td>\n",
              "      <td>a-00</td>\n",
              "      <td>1322</td>\n",
              "      <td>skinnerua</td>\n",
              "      <td>1261</td>\n",
              "      <td>d4 Nc6 e4 e5 f4 f6 dxe5 fxe5 fxe5 Nxe5 Qd4 Nc6...</td>\n",
              "      <td>B00</td>\n",
              "      <td>Nimzowitsch Defense: Kennedy Variation</td>\n",
              "      <td>4</td>\n",
              "    </tr>\n",
              "    <tr>\n",
              "      <th>2</th>\n",
              "      <td>mIICvQHh</td>\n",
              "      <td>True</td>\n",
              "      <td>1.504130e+12</td>\n",
              "      <td>1.504130e+12</td>\n",
              "      <td>61</td>\n",
              "      <td>mate</td>\n",
              "      <td>white</td>\n",
              "      <td>5+10</td>\n",
              "      <td>ischia</td>\n",
              "      <td>1496</td>\n",
              "      <td>a-00</td>\n",
              "      <td>1500</td>\n",
              "      <td>e4 e5 d3 d6 Be3 c6 Be2 b5 Nd2 a5 a4 c5 axb5 Nc...</td>\n",
              "      <td>C20</td>\n",
              "      <td>King's Pawn Game: Leonardis Variation</td>\n",
              "      <td>3</td>\n",
              "    </tr>\n",
              "    <tr>\n",
              "      <th>3</th>\n",
              "      <td>kWKvrqYL</td>\n",
              "      <td>True</td>\n",
              "      <td>1.504110e+12</td>\n",
              "      <td>1.504110e+12</td>\n",
              "      <td>61</td>\n",
              "      <td>mate</td>\n",
              "      <td>white</td>\n",
              "      <td>20+0</td>\n",
              "      <td>daniamurashov</td>\n",
              "      <td>1439</td>\n",
              "      <td>adivanov2009</td>\n",
              "      <td>1454</td>\n",
              "      <td>d4 d5 Nf3 Bf5 Nc3 Nf6 Bf4 Ng4 e3 Nc6 Be2 Qd7 O...</td>\n",
              "      <td>D02</td>\n",
              "      <td>Queen's Pawn Game: Zukertort Variation</td>\n",
              "      <td>3</td>\n",
              "    </tr>\n",
              "    <tr>\n",
              "      <th>4</th>\n",
              "      <td>9tXo1AUZ</td>\n",
              "      <td>True</td>\n",
              "      <td>1.504030e+12</td>\n",
              "      <td>1.504030e+12</td>\n",
              "      <td>95</td>\n",
              "      <td>mate</td>\n",
              "      <td>white</td>\n",
              "      <td>30+3</td>\n",
              "      <td>nik221107</td>\n",
              "      <td>1523</td>\n",
              "      <td>adivanov2009</td>\n",
              "      <td>1469</td>\n",
              "      <td>e4 e5 Nf3 d6 d4 Nc6 d5 Nb4 a3 Na6 Nc3 Be7 b4 N...</td>\n",
              "      <td>C41</td>\n",
              "      <td>Philidor Defense</td>\n",
              "      <td>5</td>\n",
              "    </tr>\n",
              "    <tr>\n",
              "      <th>...</th>\n",
              "      <td>...</td>\n",
              "      <td>...</td>\n",
              "      <td>...</td>\n",
              "      <td>...</td>\n",
              "      <td>...</td>\n",
              "      <td>...</td>\n",
              "      <td>...</td>\n",
              "      <td>...</td>\n",
              "      <td>...</td>\n",
              "      <td>...</td>\n",
              "      <td>...</td>\n",
              "      <td>...</td>\n",
              "      <td>...</td>\n",
              "      <td>...</td>\n",
              "      <td>...</td>\n",
              "      <td>...</td>\n",
              "    </tr>\n",
              "    <tr>\n",
              "      <th>20053</th>\n",
              "      <td>EfqH7VVH</td>\n",
              "      <td>True</td>\n",
              "      <td>1.499791e+12</td>\n",
              "      <td>1.499791e+12</td>\n",
              "      <td>24</td>\n",
              "      <td>resign</td>\n",
              "      <td>white</td>\n",
              "      <td>10+10</td>\n",
              "      <td>belcolt</td>\n",
              "      <td>1691</td>\n",
              "      <td>jamboger</td>\n",
              "      <td>1220</td>\n",
              "      <td>d4 f5 e3 e6 Nf3 Nf6 Nc3 b6 Be2 Bb7 O-O Be7 Ne5...</td>\n",
              "      <td>A80</td>\n",
              "      <td>Dutch Defense</td>\n",
              "      <td>2</td>\n",
              "    </tr>\n",
              "    <tr>\n",
              "      <th>20054</th>\n",
              "      <td>WSJDhbPl</td>\n",
              "      <td>True</td>\n",
              "      <td>1.499698e+12</td>\n",
              "      <td>1.499699e+12</td>\n",
              "      <td>82</td>\n",
              "      <td>mate</td>\n",
              "      <td>black</td>\n",
              "      <td>10+0</td>\n",
              "      <td>jamboger</td>\n",
              "      <td>1233</td>\n",
              "      <td>farrukhasomiddinov</td>\n",
              "      <td>1196</td>\n",
              "      <td>d4 d6 Bf4 e5 Bg3 Nf6 e3 exd4 exd4 d5 c3 Bd6 Bd...</td>\n",
              "      <td>A41</td>\n",
              "      <td>Queen's Pawn</td>\n",
              "      <td>2</td>\n",
              "    </tr>\n",
              "    <tr>\n",
              "      <th>20055</th>\n",
              "      <td>yrAas0Kj</td>\n",
              "      <td>True</td>\n",
              "      <td>1.499698e+12</td>\n",
              "      <td>1.499698e+12</td>\n",
              "      <td>35</td>\n",
              "      <td>mate</td>\n",
              "      <td>white</td>\n",
              "      <td>10+0</td>\n",
              "      <td>jamboger</td>\n",
              "      <td>1219</td>\n",
              "      <td>schaaksmurf3</td>\n",
              "      <td>1286</td>\n",
              "      <td>d4 d5 Bf4 Nc6 e3 Nf6 c3 e6 Nf3 Be7 Bd3 O-O Nbd...</td>\n",
              "      <td>D00</td>\n",
              "      <td>Queen's Pawn Game: Mason Attack</td>\n",
              "      <td>3</td>\n",
              "    </tr>\n",
              "    <tr>\n",
              "      <th>20056</th>\n",
              "      <td>b0v4tRyF</td>\n",
              "      <td>True</td>\n",
              "      <td>1.499696e+12</td>\n",
              "      <td>1.499697e+12</td>\n",
              "      <td>109</td>\n",
              "      <td>resign</td>\n",
              "      <td>white</td>\n",
              "      <td>10+0</td>\n",
              "      <td>marcodisogno</td>\n",
              "      <td>1360</td>\n",
              "      <td>jamboger</td>\n",
              "      <td>1227</td>\n",
              "      <td>e4 d6 d4 Nf6 e5 dxe5 dxe5 Qxd1+ Kxd1 Nd5 c4 Nb...</td>\n",
              "      <td>B07</td>\n",
              "      <td>Pirc Defense</td>\n",
              "      <td>4</td>\n",
              "    </tr>\n",
              "    <tr>\n",
              "      <th>20057</th>\n",
              "      <td>N8G2JHGG</td>\n",
              "      <td>True</td>\n",
              "      <td>1.499643e+12</td>\n",
              "      <td>1.499644e+12</td>\n",
              "      <td>78</td>\n",
              "      <td>mate</td>\n",
              "      <td>black</td>\n",
              "      <td>10+0</td>\n",
              "      <td>jamboger</td>\n",
              "      <td>1235</td>\n",
              "      <td>ffbob</td>\n",
              "      <td>1339</td>\n",
              "      <td>d4 d5 Bf4 Na6 e3 e6 c3 Nf6 Nf3 Bd7 Nbd2 b5 Bd3...</td>\n",
              "      <td>D00</td>\n",
              "      <td>Queen's Pawn Game: Mason Attack</td>\n",
              "      <td>3</td>\n",
              "    </tr>\n",
              "  </tbody>\n",
              "</table>\n",
              "<p>20058 rows × 16 columns</p>\n",
              "</div>"
            ],
            "text/plain": [
              "             id  rated    created_at  last_move_at  turns victory_status  \\\n",
              "0      TZJHLljE  False  1.504210e+12  1.504210e+12     13      outoftime   \n",
              "1      l1NXvwaE   True  1.504130e+12  1.504130e+12     16         resign   \n",
              "2      mIICvQHh   True  1.504130e+12  1.504130e+12     61           mate   \n",
              "3      kWKvrqYL   True  1.504110e+12  1.504110e+12     61           mate   \n",
              "4      9tXo1AUZ   True  1.504030e+12  1.504030e+12     95           mate   \n",
              "...         ...    ...           ...           ...    ...            ...   \n",
              "20053  EfqH7VVH   True  1.499791e+12  1.499791e+12     24         resign   \n",
              "20054  WSJDhbPl   True  1.499698e+12  1.499699e+12     82           mate   \n",
              "20055  yrAas0Kj   True  1.499698e+12  1.499698e+12     35           mate   \n",
              "20056  b0v4tRyF   True  1.499696e+12  1.499697e+12    109         resign   \n",
              "20057  N8G2JHGG   True  1.499643e+12  1.499644e+12     78           mate   \n",
              "\n",
              "      winner increment_code       white_id  white_rating            black_id  \\\n",
              "0      white           15+2       bourgris          1500                a-00   \n",
              "1      black           5+10           a-00          1322           skinnerua   \n",
              "2      white           5+10         ischia          1496                a-00   \n",
              "3      white           20+0  daniamurashov          1439        adivanov2009   \n",
              "4      white           30+3      nik221107          1523        adivanov2009   \n",
              "...      ...            ...            ...           ...                 ...   \n",
              "20053  white          10+10        belcolt          1691            jamboger   \n",
              "20054  black           10+0       jamboger          1233  farrukhasomiddinov   \n",
              "20055  white           10+0       jamboger          1219        schaaksmurf3   \n",
              "20056  white           10+0   marcodisogno          1360            jamboger   \n",
              "20057  black           10+0       jamboger          1235               ffbob   \n",
              "\n",
              "       black_rating                                              moves  \\\n",
              "0              1191  d4 d5 c4 c6 cxd5 e6 dxe6 fxe6 Nf3 Bb4+ Nc3 Ba5...   \n",
              "1              1261  d4 Nc6 e4 e5 f4 f6 dxe5 fxe5 fxe5 Nxe5 Qd4 Nc6...   \n",
              "2              1500  e4 e5 d3 d6 Be3 c6 Be2 b5 Nd2 a5 a4 c5 axb5 Nc...   \n",
              "3              1454  d4 d5 Nf3 Bf5 Nc3 Nf6 Bf4 Ng4 e3 Nc6 Be2 Qd7 O...   \n",
              "4              1469  e4 e5 Nf3 d6 d4 Nc6 d5 Nb4 a3 Na6 Nc3 Be7 b4 N...   \n",
              "...             ...                                                ...   \n",
              "20053          1220  d4 f5 e3 e6 Nf3 Nf6 Nc3 b6 Be2 Bb7 O-O Be7 Ne5...   \n",
              "20054          1196  d4 d6 Bf4 e5 Bg3 Nf6 e3 exd4 exd4 d5 c3 Bd6 Bd...   \n",
              "20055          1286  d4 d5 Bf4 Nc6 e3 Nf6 c3 e6 Nf3 Be7 Bd3 O-O Nbd...   \n",
              "20056          1227  e4 d6 d4 Nf6 e5 dxe5 dxe5 Qxd1+ Kxd1 Nd5 c4 Nb...   \n",
              "20057          1339  d4 d5 Bf4 Na6 e3 e6 c3 Nf6 Nf3 Bd7 Nbd2 b5 Bd3...   \n",
              "\n",
              "      opening_eco                            opening_name  opening_ply  \n",
              "0             D10        Slav Defense: Exchange Variation            5  \n",
              "1             B00  Nimzowitsch Defense: Kennedy Variation            4  \n",
              "2             C20   King's Pawn Game: Leonardis Variation            3  \n",
              "3             D02  Queen's Pawn Game: Zukertort Variation            3  \n",
              "4             C41                        Philidor Defense            5  \n",
              "...           ...                                     ...          ...  \n",
              "20053         A80                           Dutch Defense            2  \n",
              "20054         A41                            Queen's Pawn            2  \n",
              "20055         D00         Queen's Pawn Game: Mason Attack            3  \n",
              "20056         B07                            Pirc Defense            4  \n",
              "20057         D00         Queen's Pawn Game: Mason Attack            3  \n",
              "\n",
              "[20058 rows x 16 columns]"
            ]
          },
          "metadata": {},
          "output_type": "display_data"
        }
      ],
      "source": [
        "import pandas as pd\n",
        "\n",
        "games_df = pd.read_csv(\"games.csv\")\n",
        "display(games_df)\n",
        "# print(games_df.dtypes)"
      ]
    },
    {
      "cell_type": "code",
      "execution_count": 6,
      "metadata": {
        "colab": {
          "base_uri": "https://localhost:8080/"
        },
        "id": "Gzf4V86quqEj",
        "outputId": "d4097833-2369-4a5c-9ed6-7871f145141d"
      },
      "outputs": [
        {
          "name": "stderr",
          "output_type": "stream",
          "text": [
            "C:\\Users\\dhruv\\AppData\\Local\\Temp\\ipykernel_4548\\3486242056.py:5: DeprecationWarning: datetime.datetime.utcfromtimestamp() is deprecated and scheduled for removal in a future version. Use timezone-aware objects to represent datetimes in UTC: datetime.datetime.fromtimestamp(timestamp, datetime.UTC).\n",
            "  test_start = games_df['created_at'].apply(lambda x: datetime.utcfromtimestamp(x /1000))\n",
            "C:\\Users\\dhruv\\AppData\\Local\\Temp\\ipykernel_4548\\3486242056.py:6: DeprecationWarning: datetime.datetime.utcfromtimestamp() is deprecated and scheduled for removal in a future version. Use timezone-aware objects to represent datetimes in UTC: datetime.datetime.fromtimestamp(timestamp, datetime.UTC).\n",
            "  test_end = games_df['last_move_at'].apply(lambda x: datetime.utcfromtimestamp(x /1000))\n"
          ]
        },
        {
          "name": "stdout",
          "output_type": "stream",
          "text": [
            "(11510, 16)\n",
            "14       10000000.0\n",
            "43       10000000.0\n",
            "49       10000000.0\n",
            "52       10000000.0\n",
            "54       10000000.0\n",
            "            ...    \n",
            "20053      321734.0\n",
            "20054      744219.0\n",
            "20055      172834.0\n",
            "20056      946699.0\n",
            "20057      736699.0\n",
            "Name: Time_Difference, Length: 11510, dtype: float64\n"
          ]
        }
      ],
      "source": [
        "# Data Cleaning\n",
        "\n",
        "from datetime import datetime\n",
        "\n",
        "test_start = games_df['created_at'].apply(lambda x: datetime.utcfromtimestamp(x /1000))\n",
        "test_end = games_df['last_move_at'].apply(lambda x: datetime.utcfromtimestamp(x /1000))\n",
        "\n",
        "# drops all rows where the time difference is 0 milliseconds\n",
        "games_df = games_df[games_df['created_at'] - games_df['last_move_at'] != 0]\n",
        "print(games_df.shape)\n",
        "\n",
        "games_df['Time_Difference'] = games_df['last_move_at'] - games_df['created_at']\n",
        "print(games_df['Time_Difference'])"
      ]
    },
    {
      "cell_type": "code",
      "execution_count": 7,
      "metadata": {
        "colab": {
          "base_uri": "https://localhost:8080/"
        },
        "id": "o6CjnPv1xk_o",
        "outputId": "aed49f1d-4a0d-46e7-fc26-3c1e275d9e00"
      },
      "outputs": [
        {
          "name": "stdout",
          "output_type": "stream",
          "text": [
            "id                 11510\n",
            "rated              11510\n",
            "created_at         11510\n",
            "last_move_at       11510\n",
            "turns              11510\n",
            "victory_status     11510\n",
            "winner             11510\n",
            "increment_code     11510\n",
            "white_id           11510\n",
            "white_rating       11510\n",
            "black_id           11510\n",
            "black_rating       11510\n",
            "moves              11510\n",
            "opening_eco        11510\n",
            "opening_name       11510\n",
            "opening_ply        11510\n",
            "Time_Difference    11510\n",
            "dtype: int64\n",
            "414\n",
            "(11096, 17)\n",
            "11056\n"
          ]
        }
      ],
      "source": [
        "info = games_df.count()\n",
        "print(info)\n",
        "duplicated_rows = games_df[games_df.duplicated()]\n",
        "print(len(duplicated_rows))\n",
        "games_df.drop_duplicates(inplace=True)\n",
        "print(games_df.shape)\n",
        "count_unique_ids = games_df['id'].nunique()\n",
        "print(count_unique_ids)"
      ]
    },
    {
      "cell_type": "markdown",
      "metadata": {
        "id": "duKt3kP-xxf9"
      },
      "source": [
        "All the columns seem to have the same number of values, meaning there are no values and nothing needs to be imputed."
      ]
    },
    {
      "cell_type": "markdown",
      "metadata": {
        "id": "2FJqSA1a6BY1"
      },
      "source": [
        "Null Hypothesis: Playing white or black has no effect on your likelihood of winning the game.\n",
        "\n",
        "Alternative Hypothesis: The color you play (white or black) has a statistically significant effect on your likelihood of winning the game"
      ]
    },
    {
      "cell_type": "code",
      "execution_count": 8,
      "metadata": {
        "colab": {
          "base_uri": "https://localhost:8080/",
          "height": 820
        },
        "id": "v3E_0D1lwW7u",
        "outputId": "296f331b-cf7c-4e8d-ba02-9723557ae717"
      },
      "outputs": [
        {
          "ename": "ModuleNotFoundError",
          "evalue": "No module named 'matplotlib'",
          "output_type": "error",
          "traceback": [
            "\u001b[1;31m---------------------------------------------------------------------------\u001b[0m",
            "\u001b[1;31mModuleNotFoundError\u001b[0m                       Traceback (most recent call last)",
            "Cell \u001b[1;32mIn[8], line 3\u001b[0m\n\u001b[0;32m      1\u001b[0m \u001b[38;5;66;03m# This code creates a new column called 'winner_binary' which saves the winner as 0 if black won and 1 if white won.\u001b[39;00m\n\u001b[0;32m      2\u001b[0m \u001b[38;5;66;03m# This code creates a new column called 'winner_binary' which saves the winner as 0 if black won and 1 if white won.\u001b[39;00m\n\u001b[1;32m----> 3\u001b[0m \u001b[38;5;28;01mimport\u001b[39;00m \u001b[38;5;21;01mmatplotlib\u001b[39;00m\u001b[38;5;21;01m.\u001b[39;00m\u001b[38;5;21;01mpyplot\u001b[39;00m \u001b[38;5;28;01mas\u001b[39;00m \u001b[38;5;21;01mplt\u001b[39;00m\n\u001b[0;32m      4\u001b[0m \u001b[38;5;28;01mimport\u001b[39;00m \u001b[38;5;21;01mscipy\u001b[39;00m\u001b[38;5;21;01m.\u001b[39;00m\u001b[38;5;21;01mstats\u001b[39;00m \u001b[38;5;28;01mas\u001b[39;00m \u001b[38;5;21;01mstats\u001b[39;00m\n\u001b[0;32m      6\u001b[0m games_df[\u001b[38;5;124m'\u001b[39m\u001b[38;5;124mwinner_binary\u001b[39m\u001b[38;5;124m'\u001b[39m] \u001b[38;5;241m=\u001b[39m games_df[\u001b[38;5;124m'\u001b[39m\u001b[38;5;124mwinner\u001b[39m\u001b[38;5;124m'\u001b[39m]\u001b[38;5;241m.\u001b[39mapply(\u001b[38;5;28;01mlambda\u001b[39;00m x: \u001b[38;5;241m1\u001b[39m \u001b[38;5;28;01mif\u001b[39;00m x \u001b[38;5;241m==\u001b[39m \u001b[38;5;124m'\u001b[39m\u001b[38;5;124mwhite\u001b[39m\u001b[38;5;124m'\u001b[39m \u001b[38;5;28;01melse\u001b[39;00m \u001b[38;5;241m0.5\u001b[39m \u001b[38;5;28;01mif\u001b[39;00m x \u001b[38;5;241m==\u001b[39m \u001b[38;5;124m'\u001b[39m\u001b[38;5;124mdraw\u001b[39m\u001b[38;5;124m'\u001b[39m \u001b[38;5;28;01melse\u001b[39;00m \u001b[38;5;241m0\u001b[39m)\n",
            "\u001b[1;31mModuleNotFoundError\u001b[0m: No module named 'matplotlib'"
          ]
        }
      ],
      "source": [
        "# This code creates a new column called 'winner_binary' which saves the winner as 0 if black won and 1 if white won.\n",
        "# This code creates a new column called 'winner_binary' which saves the winner as 0 if black won and 1 if white won.\n",
        "import matplotlib.pyplot as plt\n",
        "import scipy.stats as stats\n",
        "\n",
        "games_df['winner_binary'] = games_df['winner'].apply(lambda x: 1 if x == 'white' else 0.5 if x == 'draw' else 0)\n",
        "print(games_df['winner_binary'])\n",
        "games_df.groupby('winner')['winner'].count().plot(kind='bar')\n",
        "t_stat, p_val = stats.ttest_1samp(games_df['winner_binary'], 0.5)\n",
        "\n",
        "print(f\"t-statistic: {t_stat}\")\n",
        "print(f\"p-value: {p_val}\")"
      ]
    },
    {
      "cell_type": "markdown",
      "metadata": {
        "id": "3vM88xn2HU7W"
      },
      "source": [
        "There is no effect of the color in the likelihood of winning the game. This is due to the high p-value suggesting that the Null Hypothesis is true."
      ]
    },
    {
      "cell_type": "markdown",
      "metadata": {
        "id": "9ZxJm5Ro5_o4"
      },
      "source": [
        "\n",
        "\n",
        "Null Hypothesis: The time the game is played does not differ depending whether the most common opening move is used.\n",
        "\n",
        "Alternative Hypothesis: The time the game is played does differentiate when the most common opening move is used.\n",
        "\n",
        "Z-test\n",
        "\n",
        "Treat full dataset as general game population to test for potential difference in means between the time it takes a regular game and game with specific opening move"
      ]
    },
    {
      "cell_type": "code",
      "execution_count": null,
      "metadata": {
        "colab": {
          "base_uri": "https://localhost:8080/"
        },
        "id": "1wzzuo7NAwQd",
        "outputId": "baf85f68-5d5f-438b-e4b5-f7931371be37"
      },
      "outputs": [
        {
          "name": "stdout",
          "output_type": "stream",
          "text": [
            "P value:  0.15349975139881228\n"
          ]
        }
      ],
      "source": [
        "# Z-test\n",
        "from scipy import stats\n",
        "import numpy as np\n",
        "\n",
        "\n",
        "# Treat full dataset as general game population to test for potential difference in means between the time it takes a regular game and game with specific opening move\n",
        "\n",
        "pop_mean = games_df['Time_Difference'].mean()\n",
        "pop_std = games_df['Time_Difference'].std()\n",
        "\n",
        "opening_mode = games_df['opening_name'].mode().iloc[0]\n",
        "sample_games = games_df[games_df['opening_name'] == opening_mode]\n",
        "sample_time = sample_games['Time_Difference']\n",
        "\n",
        "def one_sample_z_test(sample_data, population_mean, population_stddev):\n",
        "    z_score = (np.mean(sample_data) - population_mean) / (population_stddev / np.sqrt(len(sample_data)))\n",
        "    p_value = stats.norm.cdf(z_score)\n",
        "    return p_value\n",
        "\n",
        "print(\"P value: \", one_sample_z_test(sample_time, pop_mean, pop_std))"
      ]
    },
    {
      "cell_type": "markdown",
      "metadata": {
        "id": "qfyGe-a3HAfY"
      },
      "source": [
        "The P-Value is higher than 0.05, so we fail to reject the Null Hypothesis and conclude that the most common opening move does not affect the time duration of the game."
      ]
    },
    {
      "cell_type": "markdown",
      "metadata": {
        "id": "Kzh6-rOpDllW"
      },
      "source": [
        "**Two Sample T-Test**\n",
        "\n",
        "Null Hypothesis: The rating has no effect on the time the game takes.\n",
        "\n",
        "Alternative Hypothesis: The rating has an effect on the time that the game takes."
      ]
    },
    {
      "cell_type": "code",
      "execution_count": null,
      "metadata": {
        "colab": {
          "base_uri": "https://localhost:8080/"
        },
        "id": "KMW0IXSKCTof",
        "outputId": "c7a84da8-ddab-4b12-cb08-2fbd4c24b2e8"
      },
      "outputs": [
        {
          "name": "stdout",
          "output_type": "stream",
          "text": [
            "T-statistic: 2.1801562848989904\n",
            "P-value: 0.02935290314783751\n"
          ]
        }
      ],
      "source": [
        "# T-test\n",
        "from scipy.stats import ttest_ind\n",
        "\n",
        "rated_false = games_df[games_df['rated'] == False]['Time_Difference']\n",
        "rated_true = games_df[games_df['rated'] == True]['Time_Difference']\n",
        "\n",
        "# Perform a two-sample t-test\n",
        "t_stat, p_value = ttest_ind(rated_false, rated_true, equal_var=False)\n",
        "\n",
        "# Print the results\n",
        "print(\"T-statistic:\", t_stat)\n",
        "print(\"P-value:\", p_value)"
      ]
    },
    {
      "cell_type": "markdown",
      "metadata": {
        "id": "V_CsgtdhFXBB"
      },
      "source": [
        "Since the p-value is less than our significance level, 0.02935 < 0.05, we accept the alternative hypothesis that the rating does have an effect on the time that the game takes."
      ]
    }
  ],
  "metadata": {
    "colab": {
      "provenance": []
    },
    "kernelspec": {
      "display_name": "Python 3",
      "name": "python3"
    },
    "language_info": {
      "codemirror_mode": {
        "name": "ipython",
        "version": 3
      },
      "file_extension": ".py",
      "mimetype": "text/x-python",
      "name": "python",
      "nbconvert_exporter": "python",
      "pygments_lexer": "ipython3",
      "version": "3.12.3"
    }
  },
  "nbformat": 4,
  "nbformat_minor": 0
}
