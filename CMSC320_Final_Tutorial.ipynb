{
  "cells": [
    {
      "cell_type": "markdown",
      "metadata": {
        "id": "xPUbJiaXwJIn"
      },
      "source": [
        "# Exploring Winning Patterns in Chess: A Data Analysis Approach\n",
        "\n",
        "### Spring 2024 Data Science Project\n",
        "### By: Dhruv Dewan, Anish Nandyala, Adithya Prashanth"
      ]
    },
    {
      "cell_type": "markdown",
      "metadata": {},
      "source": [
        "## Why analyze random games of chess?\n",
        "\n",
        "Chess, as one of the most intellectually stimulating games, offers a enormous landscape for exploration and analysis. Beyond its plain game mechanics, each move in a chess game represents a strategic decisions, tactical maneuvers, and psychological warfare. In this data analysis, we will delve into the realm of chess games, not merely to admire the beauty of the game, but to unearth the hidden patterns and features that correlate with the ultimate goal: victory.\n",
        "\n",
        "Our Objective: to identify key features within chess games that significantly contribute to the win state. Utilizing a comprehensive dataset containing meta details of thousands of chess games. Factors such as time, opening moves, player ranks, and various other details can all provide different insights into how the game is going to go. By examining these features and their interplay with the game's outcome, we aim to uncover insights that show the path to winning in the world of chess.\n",
        "\n",
        "..."
      ]
    },
    {
      "cell_type": "markdown",
      "metadata": {},
      "source": [
        "## Data Curation\n",
        "\n",
        "An analysis and model is only as good as the data is built upon. Our team decided to use a large dataset collected from Lichess (open source chess server) games. The dataset can be found here: https://www.kaggle.com/datasets/datasnaek/chess?resource=download. This dataset has several specific features including opening move names and player ratings, which can provide unique insights into the win status of the game.\n",
        "\n",
        "First, we load in the dataset using pandas."
      ]
    },
    {
      "cell_type": "code",
      "execution_count": 89,
      "metadata": {},
      "outputs": [
        {
          "data": {
            "text/html": [
              "<div>\n",
              "<style scoped>\n",
              "    .dataframe tbody tr th:only-of-type {\n",
              "        vertical-align: middle;\n",
              "    }\n",
              "\n",
              "    .dataframe tbody tr th {\n",
              "        vertical-align: top;\n",
              "    }\n",
              "\n",
              "    .dataframe thead th {\n",
              "        text-align: right;\n",
              "    }\n",
              "</style>\n",
              "<table border=\"1\" class=\"dataframe\">\n",
              "  <thead>\n",
              "    <tr style=\"text-align: right;\">\n",
              "      <th></th>\n",
              "      <th>id</th>\n",
              "      <th>rated</th>\n",
              "      <th>created_at</th>\n",
              "      <th>last_move_at</th>\n",
              "      <th>turns</th>\n",
              "      <th>victory_status</th>\n",
              "      <th>winner</th>\n",
              "      <th>increment_code</th>\n",
              "      <th>white_id</th>\n",
              "      <th>white_rating</th>\n",
              "      <th>black_id</th>\n",
              "      <th>black_rating</th>\n",
              "      <th>moves</th>\n",
              "      <th>opening_eco</th>\n",
              "      <th>opening_name</th>\n",
              "      <th>opening_ply</th>\n",
              "    </tr>\n",
              "  </thead>\n",
              "  <tbody>\n",
              "    <tr>\n",
              "      <th>0</th>\n",
              "      <td>TZJHLljE</td>\n",
              "      <td>False</td>\n",
              "      <td>1.504210e+12</td>\n",
              "      <td>1.504210e+12</td>\n",
              "      <td>13</td>\n",
              "      <td>outoftime</td>\n",
              "      <td>white</td>\n",
              "      <td>15+2</td>\n",
              "      <td>bourgris</td>\n",
              "      <td>1500</td>\n",
              "      <td>a-00</td>\n",
              "      <td>1191</td>\n",
              "      <td>d4 d5 c4 c6 cxd5 e6 dxe6 fxe6 Nf3 Bb4+ Nc3 Ba5...</td>\n",
              "      <td>D10</td>\n",
              "      <td>Slav Defense: Exchange Variation</td>\n",
              "      <td>5</td>\n",
              "    </tr>\n",
              "    <tr>\n",
              "      <th>1</th>\n",
              "      <td>l1NXvwaE</td>\n",
              "      <td>True</td>\n",
              "      <td>1.504130e+12</td>\n",
              "      <td>1.504130e+12</td>\n",
              "      <td>16</td>\n",
              "      <td>resign</td>\n",
              "      <td>black</td>\n",
              "      <td>5+10</td>\n",
              "      <td>a-00</td>\n",
              "      <td>1322</td>\n",
              "      <td>skinnerua</td>\n",
              "      <td>1261</td>\n",
              "      <td>d4 Nc6 e4 e5 f4 f6 dxe5 fxe5 fxe5 Nxe5 Qd4 Nc6...</td>\n",
              "      <td>B00</td>\n",
              "      <td>Nimzowitsch Defense: Kennedy Variation</td>\n",
              "      <td>4</td>\n",
              "    </tr>\n",
              "    <tr>\n",
              "      <th>2</th>\n",
              "      <td>mIICvQHh</td>\n",
              "      <td>True</td>\n",
              "      <td>1.504130e+12</td>\n",
              "      <td>1.504130e+12</td>\n",
              "      <td>61</td>\n",
              "      <td>mate</td>\n",
              "      <td>white</td>\n",
              "      <td>5+10</td>\n",
              "      <td>ischia</td>\n",
              "      <td>1496</td>\n",
              "      <td>a-00</td>\n",
              "      <td>1500</td>\n",
              "      <td>e4 e5 d3 d6 Be3 c6 Be2 b5 Nd2 a5 a4 c5 axb5 Nc...</td>\n",
              "      <td>C20</td>\n",
              "      <td>King's Pawn Game: Leonardis Variation</td>\n",
              "      <td>3</td>\n",
              "    </tr>\n",
              "    <tr>\n",
              "      <th>3</th>\n",
              "      <td>kWKvrqYL</td>\n",
              "      <td>True</td>\n",
              "      <td>1.504110e+12</td>\n",
              "      <td>1.504110e+12</td>\n",
              "      <td>61</td>\n",
              "      <td>mate</td>\n",
              "      <td>white</td>\n",
              "      <td>20+0</td>\n",
              "      <td>daniamurashov</td>\n",
              "      <td>1439</td>\n",
              "      <td>adivanov2009</td>\n",
              "      <td>1454</td>\n",
              "      <td>d4 d5 Nf3 Bf5 Nc3 Nf6 Bf4 Ng4 e3 Nc6 Be2 Qd7 O...</td>\n",
              "      <td>D02</td>\n",
              "      <td>Queen's Pawn Game: Zukertort Variation</td>\n",
              "      <td>3</td>\n",
              "    </tr>\n",
              "    <tr>\n",
              "      <th>4</th>\n",
              "      <td>9tXo1AUZ</td>\n",
              "      <td>True</td>\n",
              "      <td>1.504030e+12</td>\n",
              "      <td>1.504030e+12</td>\n",
              "      <td>95</td>\n",
              "      <td>mate</td>\n",
              "      <td>white</td>\n",
              "      <td>30+3</td>\n",
              "      <td>nik221107</td>\n",
              "      <td>1523</td>\n",
              "      <td>adivanov2009</td>\n",
              "      <td>1469</td>\n",
              "      <td>e4 e5 Nf3 d6 d4 Nc6 d5 Nb4 a3 Na6 Nc3 Be7 b4 N...</td>\n",
              "      <td>C41</td>\n",
              "      <td>Philidor Defense</td>\n",
              "      <td>5</td>\n",
              "    </tr>\n",
              "  </tbody>\n",
              "</table>\n",
              "</div>"
            ],
            "text/plain": [
              "         id  rated    created_at  last_move_at  turns victory_status winner  \\\n",
              "0  TZJHLljE  False  1.504210e+12  1.504210e+12     13      outoftime  white   \n",
              "1  l1NXvwaE   True  1.504130e+12  1.504130e+12     16         resign  black   \n",
              "2  mIICvQHh   True  1.504130e+12  1.504130e+12     61           mate  white   \n",
              "3  kWKvrqYL   True  1.504110e+12  1.504110e+12     61           mate  white   \n",
              "4  9tXo1AUZ   True  1.504030e+12  1.504030e+12     95           mate  white   \n",
              "\n",
              "  increment_code       white_id  white_rating      black_id  black_rating  \\\n",
              "0           15+2       bourgris          1500          a-00          1191   \n",
              "1           5+10           a-00          1322     skinnerua          1261   \n",
              "2           5+10         ischia          1496          a-00          1500   \n",
              "3           20+0  daniamurashov          1439  adivanov2009          1454   \n",
              "4           30+3      nik221107          1523  adivanov2009          1469   \n",
              "\n",
              "                                               moves opening_eco  \\\n",
              "0  d4 d5 c4 c6 cxd5 e6 dxe6 fxe6 Nf3 Bb4+ Nc3 Ba5...         D10   \n",
              "1  d4 Nc6 e4 e5 f4 f6 dxe5 fxe5 fxe5 Nxe5 Qd4 Nc6...         B00   \n",
              "2  e4 e5 d3 d6 Be3 c6 Be2 b5 Nd2 a5 a4 c5 axb5 Nc...         C20   \n",
              "3  d4 d5 Nf3 Bf5 Nc3 Nf6 Bf4 Ng4 e3 Nc6 Be2 Qd7 O...         D02   \n",
              "4  e4 e5 Nf3 d6 d4 Nc6 d5 Nb4 a3 Na6 Nc3 Be7 b4 N...         C41   \n",
              "\n",
              "                             opening_name  opening_ply  \n",
              "0        Slav Defense: Exchange Variation            5  \n",
              "1  Nimzowitsch Defense: Kennedy Variation            4  \n",
              "2   King's Pawn Game: Leonardis Variation            3  \n",
              "3  Queen's Pawn Game: Zukertort Variation            3  \n",
              "4                        Philidor Defense            5  "
            ]
          },
          "execution_count": 89,
          "metadata": {},
          "output_type": "execute_result"
        }
      ],
      "source": [
        "import pandas as pd\n",
        "\n",
        "games_df = pd.read_csv(\"games.csv\")\n",
        "games_df.head()"
      ]
    },
    {
      "cell_type": "markdown",
      "metadata": {},
      "source": [
        "Below we check the data types of each column to see what aspects of the data we may need to process."
      ]
    },
    {
      "cell_type": "code",
      "execution_count": 90,
      "metadata": {},
      "outputs": [
        {
          "name": "stdout",
          "output_type": "stream",
          "text": [
            "id                 object\n",
            "rated                bool\n",
            "created_at        float64\n",
            "last_move_at      float64\n",
            "turns               int64\n",
            "victory_status     object\n",
            "winner             object\n",
            "increment_code     object\n",
            "white_id           object\n",
            "white_rating        int64\n",
            "black_id           object\n",
            "black_rating        int64\n",
            "moves              object\n",
            "opening_eco        object\n",
            "opening_name       object\n",
            "opening_ply         int64\n",
            "dtype: object\n",
            "(20058, 16)\n"
          ]
        }
      ],
      "source": [
        "print(games_df.dtypes)\n",
        "print(games_df.shape)"
      ]
    },
    {
      "cell_type": "markdown",
      "metadata": {},
      "source": [
        "#### Processing Game Time Records\n",
        "\n",
        "Since time can be a valuable feature to analyze, we want to process the columns 'created_at' and 'last_move_at' to represent the time that it took for the game to be played. Here we create two different versions of our dataset. There are several groups of entries that do not have the game time recorded and this can be observed in the rows that represent no time difference between creation and last move time. We will create one dataframe that contains all original entries, so that we can analyze other aspects of the game, and one dataframe that contains the time difference for games that have  their time properly recorded. This way we are able to still analyze other aspects of the game using the original/larger dataframe, while eliminating incorrect 0 time difference games from the second dataframe."
      ]
    },
    {
      "cell_type": "code",
      "execution_count": 91,
      "metadata": {
        "colab": {
          "base_uri": "https://localhost:8080/"
        },
        "id": "Gzf4V86quqEj",
        "outputId": "d4097833-2369-4a5c-9ed6-7871f145141d"
      },
      "outputs": [
        {
          "name": "stdout",
          "output_type": "stream",
          "text": [
            "14       10000000.0\n",
            "43       10000000.0\n",
            "49       10000000.0\n",
            "52       10000000.0\n",
            "54       10000000.0\n",
            "            ...    \n",
            "20053      321734.0\n",
            "20054      744219.0\n",
            "20055      172834.0\n",
            "20056      946699.0\n",
            "20057      736699.0\n",
            "Name: Time_Difference, Length: 11510, dtype: float64\n"
          ]
        },
        {
          "name": "stderr",
          "output_type": "stream",
          "text": [
            "C:\\Users\\dhruv\\AppData\\Local\\Temp\\ipykernel_25808\\1037993668.py:9: SettingWithCopyWarning: \n",
            "A value is trying to be set on a copy of a slice from a DataFrame.\n",
            "Try using .loc[row_indexer,col_indexer] = value instead\n",
            "\n",
            "See the caveats in the documentation: https://pandas.pydata.org/pandas-docs/stable/user_guide/indexing.html#returning-a-view-versus-a-copy\n",
            "  games_df_time['Time_Difference'] = games_df_time['last_move_at'] - games_df_time['created_at']\n"
          ]
        }
      ],
      "source": [
        "from datetime import datetime\n",
        "\n",
        "test_start = games_df['created_at'].apply(lambda x: datetime.fromtimestamp(x /1000))\n",
        "test_end = games_df['last_move_at'].apply(lambda x: datetime.fromtimestamp(x /1000))\n",
        "\n",
        "# drops all rows where the time difference is 0 milliseconds\n",
        "games_df_time = games_df[games_df['created_at'] - games_df['last_move_at'] != 0]\n",
        "\n",
        "games_df_time['Time_Difference'] = games_df_time['last_move_at'] - games_df_time['created_at']\n",
        "print(games_df_time['Time_Difference'])"
      ]
    },
    {
      "cell_type": "markdown",
      "metadata": {},
      "source": [
        "We print out the shape of the new dataframe with only games involving valid times to see how many games were dropped in this version of the dataframe."
      ]
    },
    {
      "cell_type": "code",
      "execution_count": 92,
      "metadata": {},
      "outputs": [
        {
          "name": "stdout",
          "output_type": "stream",
          "text": [
            "(11510, 17)\n"
          ]
        }
      ],
      "source": [
        "print(games_df_time.shape)"
      ]
    },
    {
      "cell_type": "markdown",
      "metadata": {},
      "source": [
        "#### Removing Duplicates\n",
        "\n",
        "To continue cleaning and processing the data, we must also remove any duptlicates in the original dataframe. Duplicates can completely skew data and we want to avoid any skewed insights."
      ]
    },
    {
      "cell_type": "code",
      "execution_count": 93,
      "metadata": {
        "colab": {
          "base_uri": "https://localhost:8080/"
        },
        "id": "o6CjnPv1xk_o",
        "outputId": "aed49f1d-4a0d-46e7-fc26-3c1e275d9e00"
      },
      "outputs": [
        {
          "name": "stdout",
          "output_type": "stream",
          "text": [
            "429\n",
            "(19629, 16)\n"
          ]
        }
      ],
      "source": [
        "duplicated_rows = games_df[games_df.duplicated()]\n",
        "print(len(duplicated_rows))\n",
        "\n",
        "games_df.drop_duplicates(inplace=True)\n",
        "print(games_df.shape)\n"
      ]
    },
    {
      "cell_type": "markdown",
      "metadata": {},
      "source": [
        "#### Encoding Winner as Binary\n",
        "\n",
        "The dataframe we have contains 'winner' and it is stored as either 'white', 'black', and 'draw'. For analysis and testing, this is inconvenient and we can instead encode the winner in a 'winner_binary' column that represents white as '1', balck as '0', and a draw as 0.5. Below we first check and make sure that there are only 3 possible values that 'winner' can be. After that we create 'winner_binary' representing that values we just decided to encode."
      ]
    },
    {
      "cell_type": "code",
      "execution_count": 94,
      "metadata": {},
      "outputs": [
        {
          "name": "stdout",
          "output_type": "stream",
          "text": [
            "3\n",
            "0        1.0\n",
            "1        0.0\n",
            "2        1.0\n",
            "3        1.0\n",
            "4        1.0\n",
            "        ... \n",
            "20053    1.0\n",
            "20054    0.0\n",
            "20055    1.0\n",
            "20056    1.0\n",
            "20057    0.0\n",
            "Name: winner_binary, Length: 19629, dtype: float64\n"
          ]
        }
      ],
      "source": [
        "print(games_df['winner'].nunique())\n",
        "\n",
        "games_df['winner_binary'] = games_df['winner'].apply(lambda x: 1 if x == 'white' else 0.5 if x == 'draw' else 0)\n",
        "print(games_df['winner_binary'])\n"
      ]
    },
    {
      "cell_type": "code",
      "execution_count": 95,
      "metadata": {},
      "outputs": [
        {
          "name": "stdout",
          "output_type": "stream",
          "text": [
            "id                19629\n",
            "rated             19629\n",
            "created_at        19629\n",
            "last_move_at      19629\n",
            "turns             19629\n",
            "victory_status    19629\n",
            "winner            19629\n",
            "increment_code    19629\n",
            "white_id          19629\n",
            "white_rating      19629\n",
            "black_id          19629\n",
            "black_rating      19629\n",
            "moves             19629\n",
            "opening_eco       19629\n",
            "opening_name      19629\n",
            "opening_ply       19629\n",
            "winner_binary     19629\n",
            "dtype: int64\n"
          ]
        }
      ],
      "source": [
        "info = games_df.count()\n",
        "print(info)"
      ]
    },
    {
      "cell_type": "markdown",
      "metadata": {},
      "source": [
        "## Exploratory Data Analysis\n",
        "\n",
        "IN PROGRESS ..."
      ]
    },
    {
      "cell_type": "markdown",
      "metadata": {
        "id": "duKt3kP-xxf9"
      },
      "source": [
        "All the columns seem to have the same number of values, meaning there are no values and nothing needs to be imputed."
      ]
    },
    {
      "cell_type": "markdown",
      "metadata": {
        "id": "2FJqSA1a6BY1"
      },
      "source": [
        "Null Hypothesis: Playing white or black has no effect on your likelihood of winning the game.\n",
        "\n",
        "Alternative Hypothesis: The color you play (white or black) has a statistically significant effect on your likelihood of winning the game"
      ]
    },
    {
      "cell_type": "code",
      "execution_count": 96,
      "metadata": {
        "colab": {
          "base_uri": "https://localhost:8080/",
          "height": 820
        },
        "id": "v3E_0D1lwW7u",
        "outputId": "296f331b-cf7c-4e8d-ba02-9723557ae717"
      },
      "outputs": [
        {
          "name": "stdout",
          "output_type": "stream",
          "text": [
            "t-statistic: 6.388600717699355\n",
            "p-value: 1.7117131753071786e-10\n"
          ]
        },
        {
          "data": {
            "image/png": "[encoded data removed]",
            "text/plain": [
              "<Figure size 640x480 with 1 Axes>"
            ]
          },
          "metadata": {},
          "output_type": "display_data"
        }
      ],
      "source": [
        "# This code creates a new column called 'winner_binary' which saves the winner as 0 if black won and 1 if white won.\n",
        "# This code creates a new column called 'winner_binary' which saves the winner as 0 if black won and 1 if white won.\n",
        "import matplotlib.pyplot as plt\n",
        "import scipy.stats as stats\n",
        "\n",
        "games_df.groupby('winner')['winner'].count().plot(kind='bar')\n",
        "t_stat, p_val = stats.ttest_1samp(games_df['winner_binary'], 0.5)\n",
        "\n",
        "print(f\"t-statistic: {t_stat}\")\n",
        "print(f\"p-value: {p_val}\")"
      ]
    },
    {
      "cell_type": "markdown",
      "metadata": {
        "id": "3vM88xn2HU7W"
      },
      "source": [
        "There is no effect of the color in the likelihood of winning the game. This is due to the high p-value suggesting that the Null Hypothesis is true."
      ]
    },
    {
      "cell_type": "markdown",
      "metadata": {
        "id": "9ZxJm5Ro5_o4"
      },
      "source": [
        "\n",
        "\n",
        "Null Hypothesis: The time the game is played does not differ depending whether the most common opening move is used.\n",
        "\n",
        "Alternative Hypothesis: The time the game is played does differentiate when the most common opening move is used.\n",
        "\n",
        "Z-test\n",
        "\n",
        "Treat full dataset as general game population to test for potential difference in means between the time it takes a regular game and game with specific opening move"
      ]
    },
    {
      "cell_type": "code",
      "execution_count": 97,
      "metadata": {
        "colab": {
          "base_uri": "https://localhost:8080/"
        },
        "id": "1wzzuo7NAwQd",
        "outputId": "baf85f68-5d5f-438b-e4b5-f7931371be37"
      },
      "outputs": [
        {
          "name": "stdout",
          "output_type": "stream",
          "text": [
            "P value:  0.1519480909567062\n"
          ]
        }
      ],
      "source": [
        "# Z-test\n",
        "from scipy import stats\n",
        "import numpy as np\n",
        "\n",
        "\n",
        "# Treat full dataset as general game population to test for potential difference in means between the time it takes a regular game and game with specific opening move\n",
        "\n",
        "pop_mean = games_df_time['Time_Difference'].mean()\n",
        "pop_std = games_df_time['Time_Difference'].std()\n",
        "\n",
        "opening_mode = games_df_time['opening_name'].mode().iloc[0]\n",
        "sample_games = games_df_time[games_df_time['opening_name'] == opening_mode]\n",
        "sample_time = sample_games['Time_Difference']\n",
        "\n",
        "def one_sample_z_test(sample_data, population_mean, population_stddev):\n",
        "    z_score = (np.mean(sample_data) - population_mean) / (population_stddev / np.sqrt(len(sample_data)))\n",
        "    p_value = stats.norm.cdf(z_score)\n",
        "    return p_value\n",
        "\n",
        "print(\"P value: \", one_sample_z_test(sample_time, pop_mean, pop_std))"
      ]
    },
    {
      "cell_type": "markdown",
      "metadata": {
        "id": "qfyGe-a3HAfY"
      },
      "source": [
        "The P-Value is higher than 0.05, so we fail to reject the Null Hypothesis and conclude that the most common opening move does not affect the time duration of the game."
      ]
    },
    {
      "cell_type": "markdown",
      "metadata": {
        "id": "Kzh6-rOpDllW"
      },
      "source": [
        "**Two Sample T-Test**\n",
        "\n",
        "Null Hypothesis: The rating has no effect on the time the game takes.\n",
        "\n",
        "Alternative Hypothesis: The rating has an effect on the time that the game takes."
      ]
    },
    {
      "cell_type": "code",
      "execution_count": 98,
      "metadata": {
        "colab": {
          "base_uri": "https://localhost:8080/"
        },
        "id": "KMW0IXSKCTof",
        "outputId": "c7a84da8-ddab-4b12-cb08-2fbd4c24b2e8"
      },
      "outputs": [
        {
          "name": "stdout",
          "output_type": "stream",
          "text": [
            "T-statistic: 2.1312156261905786\n",
            "P-value: 0.03317890956675674\n"
          ]
        }
      ],
      "source": [
        "# T-test\n",
        "from scipy.stats import ttest_ind\n",
        "\n",
        "rated_false = games_df_time[games_df_time['rated'] == False]['Time_Difference']\n",
        "rated_true = games_df_time[games_df_time['rated'] == True]['Time_Difference']\n",
        "\n",
        "# Perform a two-sample t-test\n",
        "t_stat, p_value = ttest_ind(rated_false, rated_true, equal_var=False)\n",
        "\n",
        "# Print the results\n",
        "print(\"T-statistic:\", t_stat)\n",
        "print(\"P-value:\", p_value)"
      ]
    },
    {
      "cell_type": "markdown",
      "metadata": {
        "id": "V_CsgtdhFXBB"
      },
      "source": [
        "Since the p-value is less than our significance level, 0.02935 < 0.05, we accept the alternative hypothesis that the rating does have an effect on the time that the game takes."
      ]
    }
  ],
  "metadata": {
    "colab": {
      "provenance": []
    },
    "kernelspec": {
      "display_name": "Python 3",
      "name": "python3"
    },
    "language_info": {
      "codemirror_mode": {
        "name": "ipython",
        "version": 3
      },
      "file_extension": ".py",
      "mimetype": "text/x-python",
      "name": "python",
      "nbconvert_exporter": "python",
      "pygments_lexer": "ipython3",
      "version": "3.12.3"
    }
  },
  "nbformat": 4,
  "nbformat_minor": 0
}
