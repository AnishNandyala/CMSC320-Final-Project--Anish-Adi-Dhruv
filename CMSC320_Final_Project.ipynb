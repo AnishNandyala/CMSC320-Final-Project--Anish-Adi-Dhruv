{
 "cells": [
  {
   "cell_type": "markdown",
   "metadata": {},
   "source": [
    "# Magnificent Seven ETF Analysis\n",
    "\n",
    "### Spring 2024 Data Science Project\n",
    "### By: Dhruv Dewan, Anish Nandyala, Adithya Prashanth"
   ]
  },
  {
   "cell_type": "markdown",
   "metadata": {},
   "source": [
    "### Introduction\n",
    "\n",
    "Write introduction here"
   ]
  },
  {
   "cell_type": "code",
   "execution_count": 1,
   "metadata": {},
   "outputs": [],
   "source": [
    "import pandas as pd\n",
    "import matplotlib.pyplot as plt"
   ]
  },
  {
   "cell_type": "markdown",
   "metadata": {},
   "source": [
    "### Data Curation\n",
    "\n",
    "Insert all data cleaning here"
   ]
  },
  {
   "cell_type": "markdown",
   "metadata": {},
   "source": [
    "### Exploratory Data Analysis\n",
    "\n",
    "Add all hypothesis, hypothesis tests, insights taken, etc. Present 3 conclusions using 3 different statistical methods. \n",
    "Write about main characteristics of the dataset, correlated features, outliers, have one plot for each test."
   ]
  },
  {
   "cell_type": "markdown",
   "metadata": {},
   "source": [
    "### Primary Analysis\n",
    "\n",
    "Choose a machine learning technique to hlep answer the questions\n"
   ]
  },
  {
   "cell_type": "markdown",
   "metadata": {},
   "source": [
    "### Visualization\n",
    "\n",
    "Add at least one plot (labeled with legend) and explained."
   ]
  },
  {
   "cell_type": "markdown",
   "metadata": {},
   "source": [
    "### Insights and Conclusions"
   ]
  }
 ],
 "metadata": {
  "kernelspec": {
   "display_name": "320-final",
   "language": "python",
   "name": "python3"
  },
  "language_info": {
   "codemirror_mode": {
    "name": "ipython",
    "version": 3
   },
   "file_extension": ".py",
   "mimetype": "text/x-python",
   "name": "python",
   "nbconvert_exporter": "python",
   "pygments_lexer": "ipython3",
   "version": "3.10.14"
  }
 },
 "nbformat": 4,
 "nbformat_minor": 2
}
